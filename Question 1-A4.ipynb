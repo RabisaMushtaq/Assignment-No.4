{
 "cells": [
  {
   "cell_type": "code",
   "execution_count": 1,
   "id": "8692653c",
   "metadata": {},
   "outputs": [
    {
     "name": "stdout",
     "output_type": "stream",
     "text": [
      "Enter first number:5\n",
      "Enter second number:2\n",
      "enter sign operator:**\n",
      "your answer is: 25\n"
     ]
    }
   ],
   "source": [
    "'''Question1:Make a calculator using Python with addition , subtraction ,\n",
    "multiplication ,division and power.'''\n",
    "x=int(input(\"Enter first number:\"));\n",
    "y=int(input(\"Enter second number:\"));\n",
    "z=input(\"enter sign operator:\");\n",
    "if z == \"+\":\n",
    "    sum= x+y\n",
    "    print(\"your answer is:\",sum);\n",
    "elif z == \"-\":\n",
    "        sub = x-y\n",
    "        print(\"your answer is:\",sub)\n",
    "elif z== \"*\":\n",
    "        multiply= x*y\n",
    "        print(\"your answer is:\", multiply)\n",
    "elif z== \"/\":\n",
    "        divide= x/y\n",
    "        print(\"your answer is:\", divide)\n",
    "elif z== \"**\":\n",
    "        power= x**y\n",
    "        print(\"your answer is:\",power)"
   ]
  },
  {
   "cell_type": "code",
   "execution_count": null,
   "id": "9e8127ae",
   "metadata": {},
   "outputs": [],
   "source": []
  }
 ],
 "metadata": {
  "kernelspec": {
   "display_name": "Python 3",
   "language": "python",
   "name": "python3"
  },
  "language_info": {
   "codemirror_mode": {
    "name": "ipython",
    "version": 3
   },
   "file_extension": ".py",
   "mimetype": "text/x-python",
   "name": "python",
   "nbconvert_exporter": "python",
   "pygments_lexer": "ipython3",
   "version": "3.8.8"
  }
 },
 "nbformat": 4,
 "nbformat_minor": 5
}
