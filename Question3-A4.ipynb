{
 "cells": [
  {
   "cell_type": "code",
   "execution_count": null,
   "id": "ad3d3745",
   "metadata": {},
   "outputs": [],
   "source": [
    "'''question#3:Write a Python script to add a key to a dictionary.'''\n",
    "a={'1': \"ali\", '2':\"sara\"}\n",
    "a[3]=\"alina\"\n",
    "a"
   ]
  }
 ],
 "metadata": {
  "kernelspec": {
   "display_name": "Python 3",
   "language": "python",
   "name": "python3"
  },
  "language_info": {
   "codemirror_mode": {
    "name": "ipython",
    "version": 3
   },
   "file_extension": ".py",
   "mimetype": "text/x-python",
   "name": "python",
   "nbconvert_exporter": "python",
   "pygments_lexer": "ipython3",
   "version": "3.8.8"
  }
 },
 "nbformat": 4,
 "nbformat_minor": 5
}
