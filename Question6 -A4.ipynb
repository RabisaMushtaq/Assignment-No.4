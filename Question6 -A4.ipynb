{
 "cells": [
  {
   "cell_type": "code",
   "execution_count": 1,
   "id": "6088af25",
   "metadata": {},
   "outputs": [
    {
     "name": "stdout",
     "output_type": "stream",
     "text": [
      "Enter a key: 1\n",
      "key exists\n"
     ]
    }
   ],
   "source": [
    "'''question#6:Write a Python script to check if a given key already exists in a\n",
    "dictionary'''\n",
    "a= {'1':\"apple\",'2':\"orange\",'3':\"grapes\"}\n",
    "b=input(\"Enter a key: \")\n",
    "for i in a.keys():\n",
    "    if b==i:\n",
    "        print(\"key exists\")"
   ]
  },
  {
   "cell_type": "code",
   "execution_count": null,
   "id": "ca2f73e9",
   "metadata": {},
   "outputs": [],
   "source": []
  }
 ],
 "metadata": {
  "kernelspec": {
   "display_name": "Python 3",
   "language": "python",
   "name": "python3"
  },
  "language_info": {
   "codemirror_mode": {
    "name": "ipython",
    "version": 3
   },
   "file_extension": ".py",
   "mimetype": "text/x-python",
   "name": "python",
   "nbconvert_exporter": "python",
   "pygments_lexer": "ipython3",
   "version": "3.8.8"
  }
 },
 "nbformat": 4,
 "nbformat_minor": 5
}
